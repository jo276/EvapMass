{
 "cells": [
  {
   "cell_type": "code",
   "execution_count": 1,
   "metadata": {},
   "outputs": [],
   "source": [
    "import pandas as pd\n",
    "import numpy as np\n",
    "import matplotlib.pyplot as plt\n",
    "import solve_for_masses as em\n",
    "import mass_loss as ms\n",
    "from numpy.random import normal\n",
    "import math\n",
    "%matplotlib inline\n",
    "\n",
    "from importlib import reload"
   ]
  },
  {
   "cell_type": "code",
   "execution_count": 2,
   "metadata": {},
   "outputs": [
    {
     "data": {
      "text/plain": [
       "<module 'mass_loss' from '/Users/bcamposestrada/Library/CloudStorage/OneDrive-UniversityofCopenhagen/EvapMass/mass_loss.py'>"
      ]
     },
     "execution_count": 2,
     "metadata": {},
     "output_type": "execute_result"
    }
   ],
   "source": [
    "reload(ms)"
   ]
  },
  {
   "cell_type": "markdown",
   "metadata": {},
   "source": [
    "As an example we work with the famous Kepler-36 system, which contains a rocky and gaseous planet. Planet parameters are taken from Carter et al. (2012, Science 337 556). \n",
    "\n",
    "To start with we need to make some basic choices. First we need to assume the composition of the solid cores. This uses the Fortney et al. (2007, ApJ 659 1661) mass-radius relation. They can either be iron-rock or water-rock (both the iron fraction and ice fraction cannot be non-zero). "
   ]
  },
  {
   "cell_type": "code",
   "execution_count": 3,
   "metadata": {},
   "outputs": [],
   "source": [
    "Xiron = 1./3.\n",
    "Xice = 0."
   ]
  },
  {
   "cell_type": "markdown",
   "metadata": {},
   "source": [
    "As discussed in the paper (Owen & Campos Estrada, in prep), one needs to choose a Kelvin-Helmholtz timescale for the H/He atmospheres at which to do the comparision (i.e. at what age is mass-loss important), the answer is very weakly dependent on this value, here we pick the standard value of 100 Myr."
   ]
  },
  {
   "cell_type": "code",
   "execution_count": 4,
   "metadata": {},
   "outputs": [],
   "source": [
    "Tkh_Myr=100."
   ]
  },
  {
   "cell_type": "markdown",
   "metadata": {},
   "source": [
    "The location of the radius valley can be chosen. The default is set to 1.8 Rearth, but this is generally only true for sun-like stars (van Eylen et al. 2018). One should change the location of the valley accordingly (for example for M-dwarfs the valley is generally at smaller radii - see van Eylen et al. 2021). "
   ]
  },
  {
   "cell_type": "code",
   "execution_count": 5,
   "metadata": {},
   "outputs": [],
   "source": [
    "valley_loc = 1.8"
   ]
  },
  {
   "cell_type": "markdown",
   "metadata": {},
   "source": [
    "A note on the efficiency parameter. The code contains three options for the efficiency parameter in the mass-loss models.\n",
    "\n",
    "1. Option 1, is to use a constant efficiency parameter.\n",
    "2. Option 2, is to use the scaling $\\eta \\propto v_{\\rm esc}^{-2}$, where $v_{\\rm esc}$ is the escape velocity from the planet's surface. This fit was provided in Owen & Wu (2017) as an approximation of the hydrodynamic models. It works well for typical sub-neptunes; however, fails when the escape temperature from the planet is smaller than the outflow temperature. In this case it overestimates the efficiency. This occurs for larger planets, or planet's where the minimum required core-mass is low. \n",
    "3. Option 3 (Default) is a full fit to the Owen & Jackson (2012) mass-loss rates. It provides a normalised value of the efficiency (scaled to the highest value in the table). For very puffy planets, photoevaporation does not occur, but rather Roche Lobe overflow (grey region in Figure 5 of Owen & Jackson 2012). If this happens the efficiency value is simply extrapolated at a constant value for the last hydrodyanmic one. \n",
    "4. Additional options - you are free to modify the \"efficiency\" function in mass_loss.py to include your own efficiency function"
   ]
  },
  {
   "cell_type": "code",
   "execution_count": 6,
   "metadata": {},
   "outputs": [],
   "source": [
    "# set the efficiency option \n",
    "eff_option = 3"
   ]
  },
  {
   "cell_type": "markdown",
   "metadata": {},
   "source": [
    "Now we input the planetary and stellar parameters and their errors. Any errors in the Carter et al. (2012) paper that are not symmetric we just make symmetric crudely using addition in quadrature. "
   ]
  },
  {
   "cell_type": "code",
   "execution_count": 7,
   "metadata": {},
   "outputs": [],
   "source": [
    "#Define the stellar parameters of the system (here defined for Kepler-36)\n",
    "system_name = 'Kepler-36'\n",
    "s_M = 1.071 # stellar mass,  solar masses\n",
    "s_Mer = 0.043 # stellar mass error, solar masses\n",
    "s_Teff = 5911 # Stellar effective temperature, K\n",
    "s_Teffer = 66 # stellar effective temperature error, K\n",
    "s_R = 1.626 # stellar radius, solar radii - note we should really use the MS radii but this is and example.\n",
    "s_Rer = 0.019 # stellar radius error, solar radii \n",
    "s_age = 6800 # stellar age, Myr\n",
    "s_age_er = 1000. #stellar age error, Myr"
   ]
  },
  {
   "cell_type": "code",
   "execution_count": 8,
   "metadata": {},
   "outputs": [],
   "source": [
    "#Planets are stored in dictionaries\n",
    "\n",
    "\"\"\"\n",
    "Dictionary keys: \n",
    "r - planet radius, Earth radii\n",
    "r_err - error on planetary radius\n",
    "p - orbital period, days\n",
    "p_err - orbital period error, make them symmetric\n",
    "\"\"\"\n",
    "\n",
    "planet_b = {\"name\":'b', \"r\": 1.486, \"r_err\": 0.035, \n",
    "            \"p\": 13.83989, \"p_err\": np.sqrt(0.00082**2.+0.00060**2.)}\n",
    "\n",
    "planet_c = {\"name\":'c', \"r\": 3.679, \"r_err\": 0.054, \n",
    "            \"p\": 16.23855, \"p_err\": np.sqrt(0.00038**2.+0.00054**2.)}\n",
    "\n",
    "planets = [planet_b, planet_c]"
   ]
  },
  {
   "cell_type": "markdown",
   "metadata": {},
   "source": [
    "Now do the calculation for the minimum mass of Kepler-36c to be consistent with photoevaporation assuming the mean values for all parameters."
   ]
  },
  {
   "cell_type": "code",
   "execution_count": 9,
   "metadata": {},
   "outputs": [
    {
     "name": "stdout",
     "output_type": "stream",
     "text": [
      "Planet c has a minimum core mass of 8.41 Mearth.\n"
     ]
    }
   ],
   "source": [
    "#igaseous is where indices of gaseous planets are stored\n",
    "igaseous = []\n",
    "# evaluate minimum mass for the mean value and print it\n",
    "system = em.psystem(system_name)\n",
    "\n",
    "system.star.mass = s_M\n",
    "system.star.radius = s_R\n",
    "system.star.Teff = s_Teff\n",
    "system.star.age = s_age\n",
    "\n",
    "for planet in planets:\n",
    "    system.add_planet(planet['name'], planet['r'], planet['r_err'],\n",
    "                      planet['p'], planet['p_err'])\n",
    "    \n",
    "system.update_planet_info()\n",
    "system.above_or_below_valley(valley_loc)\n",
    "system.mass_rocky(Xiron,Xice)\n",
    "\n",
    "ms.find_hardest_rocky(system,Tkh_Myr,Xiron,Xice,eff_option)\n",
    "\n",
    "irocky = system.index_rocky_to_scale #index of rocky planet which is hardest to strip\n",
    "\n",
    "n_gaseous = 0 #counter for number of mini-Neptunes in system\n",
    "nplanet = 0 #index of current planet\n",
    "for planet in system.planets:\n",
    "  if (planet.rocky_or_gaseous == 0):\n",
    "    igaseous.append(nplanet)\n",
    "    n_gaseous +=1\n",
    "    Mout, flag = ms.min_mass_gaseous(system.planets[irocky],system.planets[nplanet],\n",
    "                                     Tkh_Myr,Xiron,Xice,system.star.age,eff_option)\n",
    "    Mmedian = np.copy(Mout)\n",
    "    print('Planet', planet.name, 'has a minimum core mass of %.2f Mearth.' % Mmedian)\n",
    "  nplanet +=1\n",
    "  "
   ]
  },
  {
   "cell_type": "markdown",
   "metadata": {},
   "source": [
    "However, given the stellar and planetary parameters contain errors these must be included, therefore we assume the errors are gaussian and randonly sample them. Here we use 1000 samples, but a value should be chosen such that the upper-limit is converged.  "
   ]
  },
  {
   "cell_type": "code",
   "execution_count": 10,
   "metadata": {},
   "outputs": [
    {
     "name": "stdout",
     "output_type": "stream",
     "text": [
      "The 95% upper limit to be consistent with photoevaporation is\n",
      "6.974147579841815 Mearth\n"
     ]
    },
    {
     "data": {
      "image/png": "[encoded data removed]",
      "text/plain": [
       "<Figure size 500x500 with 1 Axes>"
      ]
     },
     "metadata": {},
     "output_type": "display_data"
    }
   ],
   "source": [
    "for index in igaseous:\n",
    "  Mout_error= np.zeros(1000)\n",
    "  flag_out = np.zeros(1000,dtype=np.int8)\n",
    "    \n",
    "  for i in range(np.size(Mout_error)):\n",
    "    system = em.psystem(system_name+'_%d' %i)\n",
    "    \n",
    "    system.star.mass=normal(s_M,s_Mer,1)\n",
    "    system.star.radius=normal(s_R,s_Rer,1)\n",
    "    system.star.Teff=normal(s_Teff,s_Teffer,1)\n",
    "    system.star.age = normal(s_age,s_age_er,1)\n",
    "    \n",
    "    for planet in planets:\n",
    "        r_use = normal(planet['r'],planet['r_err'],1)\n",
    "        p_use = normal(planet['p'],planet['p_err'],1)\n",
    "        system.add_planet(planet['name'], r_use, planet['r_err'],\n",
    "                          p_use, planet['p_err'])\n",
    "    \n",
    "    system.update_planet_info()\n",
    "    system.above_or_below_valley(valley_loc)\n",
    "    system.mass_rocky(Xiron,Xice)\n",
    "    \n",
    "    ms.find_hardest_rocky(system,Tkh_Myr,Xiron,Xice,eff_option)\n",
    "    irocky = system.index_rocky_to_scale #index of rocky planet which is hardest to strip\n",
    "    \n",
    "\n",
    "    Mout, flag = ms.min_mass_gaseous(system.planets[irocky],system.planets[index],\n",
    "                                         Tkh_Myr,Xiron,Xice,system.star.age,eff_option)\n",
    "    Mout_error[i] = Mout\n",
    "    flag_out[i]=flag\n",
    "    \n",
    "  plt.hist(Mout_error,bins=30,density=True,histtype='step',lw=2)\n",
    "  plt.plot([(np.percentile(Mout_error,5.)),(np.percentile(Mout_error,5.))],[0.,1.],'--',color='k', lw=1.5)\n",
    "  plt.plot([8.08,8.08],[0.,1.],':',color='b', lw=1.5) #Must set this to the meassured mass of the planet\n",
    "  plt.ylim((0.,1.))\n",
    "  plt.ylabel('Probability Density',fontsize=12)\n",
    "  plt.xlabel(r'Minimum Core Mass [M$_\\oplus$]',fontsize=12)\n",
    "  print('The 95% upper limit to be consistent with photoevaporation is')\n",
    "  print((np.percentile(Mout_error,5.)),'Mearth') "
   ]
  },
  {
   "cell_type": "markdown",
   "metadata": {},
   "source": [
    "The resulting distribution is plotted as well as the 95% upperlimit (dashed line). The measured mass is plotted as the dotted line. This indicates (as known from previous work - Lopez & Fortney 2013, Owen & Morton 2016) that Kepler-36 is consistent with the photoevaporation model. The value to quote, as we are concerned with the minimum mass to be consistent is something like the 95% upper-limit, not the mean or meadian value. "
   ]
  },
  {
   "cell_type": "markdown",
   "metadata": {},
   "source": [
    "One can test the effect of different mass-loss efficiencies in the distribution by running the same procedure and setting \"eff_option\" to 1 or 2. See the Intro_notebook for more information on this."
   ]
  },
  {
   "cell_type": "markdown",
   "metadata": {},
   "source": [
    "# TOI-1468\n",
    "Test the TOI-1468 system, age of star is uncertain between 1000 to 10000 Myr. Choose 5000 Myr therefore.\n",
    "Parameters taken from Chaturvedi et al. 2022."
   ]
  },
  {
   "cell_type": "code",
   "execution_count": 7,
   "metadata": {},
   "outputs": [],
   "source": [
    "valley_loc = 1.5 #this is an M dwarf system, so this choice is more appropriate"
   ]
  },
  {
   "cell_type": "code",
   "execution_count": 8,
   "metadata": {},
   "outputs": [],
   "source": [
    "#Define the stellar parameters of the system \n",
    "system_name = 'TOI-1468'\n",
    "s_M = 0.339 # stellar mass,  solar masses\n",
    "s_Mer = 0.011 # stellar mass error, solar masses\n",
    "s_Teff = 3496. # Stellar effective temperature, K\n",
    "s_Teffer = 25. # stellar effective temperature error, K\n",
    "s_R = 0.344 # stellar radius, solar radii - note we should really use the MS radii but this is and example.\n",
    "s_Rer = 0.005 # stellar radius error, solar radii \n",
    "s_age = 5000. # stellar age, Myr\n",
    "s_age_er = 1000. #stellar age error, Myr"
   ]
  },
  {
   "cell_type": "code",
   "execution_count": 9,
   "metadata": {},
   "outputs": [],
   "source": [
    "#Planets are stored in dictionaries\n",
    "\n",
    "\"\"\"\n",
    "Dictionary keys: \n",
    "r - planet radius, Earth radii\n",
    "r_err - error on planetary radius\n",
    "p - orbital period, days\n",
    "p_err - orbital period error, make them symmetric\n",
    "\"\"\"\n",
    "\n",
    "planet_b = {\"name\":'b', \"r\": 1.280, \"r_err\": np.sqrt(0.038**2.+0.039**2.),\n",
    "            \"p\": 1.8805136, \"p_err\": np.sqrt(0.0000024**2.+0.0000026**2.)}\n",
    "\n",
    "planet_c = {\"name\":'c', \"r\": 2.064, \"r_err\": 0.044, \n",
    "            \"p\": 15.532482, \"p_err\": np.sqrt(0.000034**2.+0.000033**2.)}\n",
    "\n",
    "planets = [planet_b, planet_c]"
   ]
  },
  {
   "cell_type": "code",
   "execution_count": 10,
   "metadata": {},
   "outputs": [
    {
     "name": "stdout",
     "output_type": "stream",
     "text": [
      "Planet c has a minimum core mass of 0.35 Mearth.\n"
     ]
    }
   ],
   "source": [
    "#igaseous is where indices of gaseous planets are stored\n",
    "igaseous = []\n",
    "# evaluate minimum mass for the mean value and print it\n",
    "system = em.psystem(system_name)\n",
    "\n",
    "system.star.mass = s_M\n",
    "system.star.radius = s_R\n",
    "system.star.Teff = s_Teff\n",
    "system.star.age = s_age\n",
    "\n",
    "for planet in planets:\n",
    "    system.add_planet(planet['name'], planet['r'], planet['r_err'],\n",
    "                      planet['p'], planet['p_err'])\n",
    "    \n",
    "system.update_planet_info()\n",
    "system.above_or_below_valley(valley_loc)\n",
    "system.mass_rocky(Xiron,Xice)\n",
    "\n",
    "ms.find_hardest_rocky(system,Tkh_Myr,Xiron,Xice,eff_option)\n",
    "\n",
    "irocky = system.index_rocky_to_scale #index of rocky planet which is hardest to strip\n",
    "\n",
    "n_gaseous = 0 #counter for number of mini-Neptunes in system\n",
    "nplanet = 0 #index of current planet\n",
    "for planet in system.planets:\n",
    "  if (planet.rocky_or_gaseous == 0):\n",
    "    igaseous.append(nplanet)\n",
    "    n_gaseous +=1\n",
    "    Mout, flag = ms.min_mass_gaseous(system.planets[irocky],system.planets[nplanet],\n",
    "                                     Tkh_Myr,Xiron,Xice,system.star.age,eff_option)\n",
    "    Mmedian = np.copy(Mout)\n",
    "    print('Planet', planet.name, 'has a minimum core mass of %.2f Mearth.' % Mmedian)\n",
    "  nplanet +=1\n",
    "  "
   ]
  },
  {
   "cell_type": "code",
   "execution_count": null,
   "metadata": {},
   "outputs": [],
   "source": [
    "for index in igaseous:\n",
    "  Mout_error= np.zeros(1000)\n",
    "  flag_out = np.zeros(1000,dtype=np.int8)\n",
    "    \n",
    "  for i in range(np.size(Mout_error)):\n",
    "    system = em.psystem(system_name+'_%d' %i)\n",
    "    \n",
    "    system.star.mass=normal(s_M,s_Mer,1)\n",
    "    system.star.radius=normal(s_R,s_Rer,1)\n",
    "    system.star.Teff=normal(s_Teff,s_Teffer,1)\n",
    "    system.star.age = normal(s_age,s_age_er,1)\n",
    "    \n",
    "    for planet in planets:\n",
    "        r_use = normal(planet['r'],planet['r_err'],1)\n",
    "        p_use = normal(planet['p'],planet['p_err'],1)\n",
    "        system.add_planet(planet['name'], r_use, planet['r_err'],\n",
    "                          p_use, planet['p_err'])\n",
    "    \n",
    "    system.update_planet_info()\n",
    "    system.above_or_below_valley(valley_loc)\n",
    "    system.mass_rocky(Xiron,Xice)\n",
    "    \n",
    "    ms.find_hardest_rocky(system,Tkh_Myr,Xiron,Xice,eff_option)\n",
    "    irocky = system.index_rocky_to_scale #index of rocky planet which is hardest to strip\n",
    "    \n",
    "\n",
    "    Mout, flag = ms.min_mass_gaseous(system.planets[irocky],system.planets[index],\n",
    "                                         Tkh_Myr,Xiron,Xice,system.star.age,eff_option)\n",
    "    Mout_error[i] = Mout\n",
    "    flag_out[i]=flag\n",
    "    \n",
    "  plt.hist(Mout_error,bins=50,density=True,histtype='step',lw=2)\n",
    "  plt.plot([(np.percentile(Mout_error,5.)),(np.percentile(Mout_error,5.))],[0.,1.],'--',color='k', lw=1.5)\n",
    "  plt.plot([6.64,6.64],[0.,1.],':',color='b', lw=1.5) #Must set this to the meassured mass of the planet\n",
    "  #plt.ylim((0.,1.))\n",
    "  #plt.xlim((0.,1.))\n",
    "  plt.ylabel('Probability Density',fontsize=12)\n",
    "  plt.xlabel(r'Minimum Core Mass [M$_\\oplus$]',fontsize=12)\n",
    "  plt.title(r'TOI-1468c', fontsize=12)\n",
    "  print('The 95% upper limit to be consistent with photoevaporation is')\n",
    "  print((np.percentile(Mout_error,5.)),'Mearth') "
   ]
  },
  {
   "cell_type": "markdown",
   "metadata": {},
   "source": [
    "# K2-3\n",
    "Test the K2-3 system. Parameters taken from Diamond-Lowe et al. 2022."
   ]
  },
  {
   "cell_type": "code",
   "execution_count": 16,
   "metadata": {},
   "outputs": [],
   "source": [
    "#Define the stellar parameters of the system \n",
    "system_name = 'K2-3'\n",
    "s_M = 0.549 # stellar mass,  solar masses\n",
    "s_Mer = np.sqrt(0.029**2.+0.027**2.) # stellar mass error, solar masses\n",
    "s_Teff = 3896. # Stellar effective temperature, K\n",
    "s_Teffer = 189. # stellar effective temperature error, K\n",
    "s_R = 0.546 # stellar radius, solar radii - note we should really use the MS radii but this is and example.\n",
    "s_Rer = 0.017 # stellar radius error, solar radii \n",
    "s_age = 6900. # stellar age, Myr\n",
    "s_age_er = 4700. #stellar age error, Myr"
   ]
  },
  {
   "cell_type": "code",
   "execution_count": 17,
   "metadata": {},
   "outputs": [],
   "source": [
    "#Planets are stored in dictionaries\n",
    "\n",
    "\"\"\"\n",
    "Dictionary keys: \n",
    "r - planet radius, Earth radii\n",
    "r_err - error on planetary radius\n",
    "p - orbital period, days\n",
    "p_err - orbital period error, make them symmetric\n",
    "\"\"\"\n",
    "\n",
    "planet_b = {\"name\":'b', \"r\": 2.078, \"r_err\": np.sqrt(0.076**2.+0.067**2.),\n",
    "            \"p\": 10.0546535, \"p_err\": np.sqrt(0.0000088**2.+0.0000091**2.)}\n",
    "\n",
    "planet_c = {\"name\":'c', \"r\": 1.582, \"r_err\": np.sqrt(0.057**2.+0.051**2.), \n",
    "            \"p\": 24.646729, \"p_err\": np.sqrt(0.000044**2.+0.000042**2.)}\n",
    "\n",
    "\n",
    "planet_d = {\"name\":'d', \"r\": 1.458, \"r_err\": np.sqrt(0.056**2.+0.051**2.), \n",
    "            \"p\": 44.55603, \"p_err\": np.sqrt(0.00013**2.+0.00012**2.)}\n",
    "\n",
    "planets = [planet_b, planet_c, planet_d]"
   ]
  },
  {
   "cell_type": "code",
   "execution_count": 18,
   "metadata": {},
   "outputs": [
    {
     "name": "stdout",
     "output_type": "stream",
     "text": [
      "Planet b has a minimum core mass of 10.32 Mearth.\n",
      "Planet c has a minimum core mass of -2.00 Mearth.\n"
     ]
    }
   ],
   "source": [
    "#igaseous is where indices of gaseous planets are stored\n",
    "igaseous = []\n",
    "# evaluate minimum mass for the mean value and print it\n",
    "system = em.psystem(system_name)\n",
    "\n",
    "system.star.mass = s_M\n",
    "system.star.radius = s_R\n",
    "system.star.Teff = s_Teff\n",
    "system.star.age = s_age\n",
    "\n",
    "for planet in planets:\n",
    "    system.add_planet(planet['name'], planet['r'], planet['r_err'],\n",
    "                      planet['p'], planet['p_err'])\n",
    "    \n",
    "system.update_planet_info()\n",
    "system.above_or_below_valley(valley_loc)\n",
    "system.mass_rocky(Xiron,Xice)\n",
    "\n",
    "ms.find_hardest_rocky(system,Tkh_Myr,Xiron,Xice,eff_option)\n",
    "\n",
    "irocky = system.index_rocky_to_scale #index of rocky planet which is hardest to strip\n",
    "\n",
    "n_gaseous = 0 #counter for number of mini-Neptunes in system\n",
    "nplanet = 0 #index of current planet\n",
    "for planet in system.planets:\n",
    "  if (planet.rocky_or_gaseous == 0):\n",
    "    igaseous.append(nplanet)\n",
    "    n_gaseous +=1\n",
    "    Mout, flag = ms.min_mass_gaseous(system.planets[irocky],system.planets[nplanet],\n",
    "                                     Tkh_Myr,Xiron,Xice,system.star.age,eff_option)\n",
    "    Mmedian = np.copy(Mout)\n",
    "    print('Planet', planet.name, 'has a minimum core mass of %.2f Mearth.' % Mmedian)\n",
    "  nplanet +=1\n",
    "  "
   ]
  },
  {
   "cell_type": "markdown",
   "metadata": {},
   "source": [
    "K2-3 is most likely consistent with a system of 3 mini-Neptunes. From the radius valley location for M dwarfs derived by van Eylen et al. 2021, this is expected as the valley at the orbital period of the K2-3d would be below 1.5Rearth. "
   ]
  },
  {
   "cell_type": "markdown",
   "metadata": {},
   "source": [
    "# TOI-270\n",
    "Test the TOI-270 system. Parameters taken from van Eylen et al. 2021."
   ]
  },
  {
   "cell_type": "code",
   "execution_count": null,
   "metadata": {},
   "outputs": [],
   "source": [
    "valley_loc = 1.5"
   ]
  },
  {
   "cell_type": "code",
   "execution_count": null,
   "metadata": {},
   "outputs": [],
   "source": [
    "#Define the stellar parameters of the system \n",
    "system_name = 'TOI-270'\n",
    "s_M = 0.386 # stellar mass,  solar masses\n",
    "s_Mer = 0.008 # stellar mass error, solar masses\n",
    "s_Teff = 3506. # Stellar effective temperature, K\n",
    "s_Teffer = 70. # stellar effective temperature error, K\n",
    "s_R = 0.378 # stellar radius, solar radii - note we should really use the MS radii but this is an example.\n",
    "s_Rer = 0.011 # stellar radius error, solar radii \n",
    "s_age = 5000. # stellar age, Myr\n",
    "s_age_er = 5000. #stellar age error, Myr"
   ]
  },
  {
   "cell_type": "code",
   "execution_count": null,
   "metadata": {},
   "outputs": [],
   "source": [
    "#Planets are stored in dictionaries\n",
    "\n",
    "\"\"\"\n",
    "Dictionary keys: \n",
    "r - planet radius, Earth radii\n",
    "r_err - error on planetary radius\n",
    "p - orbital period, days\n",
    "p_err - orbital period error, make them symmetric\n",
    "\"\"\"\n",
    "\n",
    "planet_b = {\"name\":'b', \"r\": 1.206, \"r_err\": 0.039,\n",
    "            \"p\": 3.3601538, \"p_err\": 0.0000048}\n",
    "\n",
    "planet_c = {\"name\":'c', \"r\": 2.355, \"r_err\": 0.064, \n",
    "            \"p\": 5.6605731, \"p_err\": 0.0000031}\n",
    "\n",
    "\n",
    "planet_d = {\"name\":'d', \"r\": 2.133, \"r_err\": 0.058, \n",
    "            \"p\":  11.379573, \"p_err\": 0.000013}\n",
    "\n",
    "planets = [planet_b, planet_c, planet_d]"
   ]
  },
  {
   "cell_type": "code",
   "execution_count": null,
   "metadata": {},
   "outputs": [],
   "source": [
    "#igaseous is where indices of gaseous planets are stored\n",
    "igaseous = []\n",
    "# evaluate minimum mass for the mean value and print it\n",
    "system = em.psystem(system_name)\n",
    "\n",
    "system.star.mass = s_M\n",
    "system.star.radius = s_R\n",
    "system.star.Teff = s_Teff\n",
    "system.star.age = s_age\n",
    "\n",
    "for planet in planets:\n",
    "    system.add_planet(planet['name'], planet['r'], planet['r_err'],\n",
    "                      planet['p'], planet['p_err'])\n",
    "    \n",
    "system.update_planet_info()\n",
    "system.above_or_below_valley(valley_loc)\n",
    "system.mass_rocky(Xiron,Xice)\n",
    "\n",
    "ms.find_hardest_rocky(system,Tkh_Myr,Xiron,Xice,eff_option)\n",
    "\n",
    "irocky = system.index_rocky_to_scale #index of rocky planet which is hardest to strip\n",
    "\n",
    "n_gaseous = 0 #counter for number of mini-Neptunes in system\n",
    "nplanet = 0 #index of current planet\n",
    "for planet in system.planets:\n",
    "  if (planet.rocky_or_gaseous == 0):\n",
    "    igaseous.append(nplanet)\n",
    "    n_gaseous +=1\n",
    "    Mout, flag = ms.min_mass_gaseous(system.planets[irocky],system.planets[nplanet],\n",
    "                                     Tkh_Myr,Xiron,Xice,system.star.age,eff_option)\n",
    "    Mmedian = np.copy(Mout)\n",
    "    print('Planet', planet.name, 'has a minimum core mass of %.2f Mearth.' % Mmedian)\n",
    "  nplanet +=1"
   ]
  },
  {
   "cell_type": "code",
   "execution_count": null,
   "metadata": {},
   "outputs": [],
   "source": []
  }
 ],
 "metadata": {
  "kernelspec": {
   "display_name": "Python 3 (ipykernel)",
   "language": "python",
   "name": "python3"
  },
  "language_info": {
   "codemirror_mode": {
    "name": "ipython",
    "version": 3
   },
   "file_extension": ".py",
   "mimetype": "text/x-python",
   "name": "python",
   "nbconvert_exporter": "python",
   "pygments_lexer": "ipython3",
   "version": "3.9.13"
  }
 },
 "nbformat": 4,
 "nbformat_minor": 4
}
