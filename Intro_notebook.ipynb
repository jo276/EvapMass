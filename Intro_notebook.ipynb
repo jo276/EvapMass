{
 "cells": [
  {
   "cell_type": "code",
   "execution_count": 39,
   "metadata": {},
   "outputs": [],
   "source": [
    "import pandas as pd\n",
    "import numpy as np\n",
    "import matplotlib.pyplot as plt\n",
    "import solve_for_masses as em\n",
    "import mass_loss as ms\n",
    "from numpy.random import normal\n",
    "%matplotlib inline\n",
    "\n",
    "from importlib import reload"
   ]
  },
  {
   "cell_type": "code",
   "execution_count": 40,
   "metadata": {},
   "outputs": [
    {
     "data": {
      "text/plain": [
       "<module 'mass_loss' from '/mnt/data/jeowen/collaborator_projects/Beatriz/EvapMass2/EvapMass/mass_loss.py'>"
      ]
     },
     "execution_count": 40,
     "metadata": {},
     "output_type": "execute_result"
    }
   ],
   "source": [
    "reload(ms)"
   ]
  },
  {
   "cell_type": "markdown",
   "metadata": {},
   "source": [
    "As an example we work with the famous Kepler-36 system, which contains a rocky and gaseous planet. Planet parameters are taken from Carter et al. (2012, Science 337 556). \n",
    "\n",
    "To start with we need to make some basic choices. First we need to assume the composition of the solid cores. This uses the Fortney et al. (2007, ApJ 659 1661) mass-radius relation. They can either be iron-rock or water-rock (both the iron fraction and ice fraction cannot be non-zero). "
   ]
  },
  {
   "cell_type": "code",
   "execution_count": 41,
   "metadata": {},
   "outputs": [],
   "source": [
    "Xiron = 1./3.\n",
    "Xice = 0."
   ]
  },
  {
   "cell_type": "markdown",
   "metadata": {},
   "source": [
    "As discussed in the paper (Owen & Campos Estrada, in prep), one needs to choose a Kelvin-Helmholtz timescale for the H/He atmospheres at which to do the comparision (i.e. at what age is mass-loss important), the answer is very weakly dependent on this value, here we pick the standard value of 100 Myr."
   ]
  },
  {
   "cell_type": "code",
   "execution_count": 42,
   "metadata": {},
   "outputs": [],
   "source": [
    "Tkh_Myr=100."
   ]
  },
  {
   "cell_type": "markdown",
   "metadata": {},
   "source": [
    "Now we input the planetary and stellar parameters and their errors. Any errors in the Carter et al. (2012) paper that are not symmetric we just make symmetric crudely using addition in quadrature. "
   ]
  },
  {
   "cell_type": "code",
   "execution_count": 43,
   "metadata": {},
   "outputs": [],
   "source": [
    "K36s_M = 1.071 # stellar mass,  solar masses\n",
    "K36s_Mer = 0.043 # stellar mass error, solar masses\n",
    "K36s_Teff = 5911 # Stellar effective temperature, K\n",
    "K36s_Teffer = 66 # stellar effective temperature error, K\n",
    "K36s_R = 1.626 # stellar radius, solar radii - note we should really use the MS radii but this is and example.\n",
    "K36s_Rer=0.019 # stellar radius error, solar radii \n",
    "K36s_age=6800 # stellar age, Myr\n",
    "K36s_age_er=1000. #stellar age error, Myr\n",
    "\n",
    "#radius in earth unit and period in days + errors for planet b\n",
    "K36b_R = 1.486\n",
    "K36b_Rer=0.035\n",
    "K36b_P = 13.83989\n",
    "K36b_Per = np.sqrt(0.00082**2.+0.00060**2.) # make period errors symmetric\n",
    "\n",
    "#radius in earth unit and period in days + errors for planet c\n",
    "K36c_R = 3.679\n",
    "K36c_Rer=0.054\n",
    "K36c_P = 16.23855\n",
    "K36c_Per = np.sqrt(0.00038**2.+0.00054**2.)"
   ]
  },
  {
   "cell_type": "markdown",
   "metadata": {},
   "source": [
    "A note on the efficiency parameter. The code contains three options for the efficiency parameter in the mass-loss models.\n",
    "\n",
    "1. Option 1, is to use a constant efficiency parameter.\n",
    "2. Option 2, is to use the scaling $\\eta \\propto v_{\\rm esc}^{-2}$, where $v_{\\rm esc}$ is the escape velocity from the planet's surface. This fit was provided in Owen & Wu (2017) as an approximation of the hydrodynamic models. It works well for typical sub-neptunes; however, fails when the escape temperature from the planet is smaller than the outflow temperature. In this case it overestimates the efficiency. This occurs for larger planets, or planet's where the minimum required core-mass is low. \n",
    "3. Option 3 (Default) is a full fit to the Owen & Jackson (2012) mass-loss rates. It provides a normalised value of the efficiency (scaled to the highest value in the table). For very puffy planets, photoevaporation does not occur, but rather Roche Lobe overflow (grey region in Figure 5 of Owen & Jackson 2012). If this happens the efficiency value is simply extrapolated at a constant value for the last hydrodyanmic one. \n",
    "4. Additional options - you are free to modify the \"efficiency\" function in mass_loss.py to include your own efficiency function"
   ]
  },
  {
   "cell_type": "code",
   "execution_count": 47,
   "metadata": {},
   "outputs": [],
   "source": [
    "# set the efficiency option \n",
    "eff_option = 3"
   ]
  },
  {
   "cell_type": "markdown",
   "metadata": {},
   "source": [
    "Now do the calculation for the minimum mass of Kepler-36c to be consistent with photoevaporation assuming the mean values for all parameters."
   ]
  },
  {
   "cell_type": "code",
   "execution_count": 48,
   "metadata": {},
   "outputs": [
    {
     "name": "stdout",
     "output_type": "stream",
     "text": [
      "8.412384425520381 Mearth\n"
     ]
    },
    {
     "name": "stderr",
     "output_type": "stream",
     "text": [
      "/home/jeowen/anaconda3/lib/python3.8/site-packages/numpy/core/fromnumeric.py:87: VisibleDeprecationWarning: Creating an ndarray from ragged nested sequences (which is a list-or-tuple of lists-or-tuples-or ndarrays with different lengths or shapes) is deprecated. If you meant to do this, you must specify 'dtype=object' when creating the ndarray.\n",
      "  return ufunc.reduce(obj, axis, dtype, out, **passkwargs)\n"
     ]
    }
   ],
   "source": [
    "# evaluate minimum mass for the mean value and print it\n",
    "\n",
    "system = em.psystem('Kepler36')\n",
    "system.add_planet('36b',K36b_R,K36b_Rer,K36b_P,K36b_Per)\n",
    "system.add_planet('36c',K36c_R,K36c_Rer,K36c_P,K36c_Per)\n",
    "system.star.mass=K36s_M\n",
    "system.star.radius=K36s_R\n",
    "system.star.Teff=K36s_Teff\n",
    "system.star.age = K36s_age\n",
    "system.update_planet_info()\n",
    "system.above_or_below_valley()\n",
    "system.mass_rocky(Xiron,Xice)\n",
    "\n",
    "ms.find_hardest_rocky(system,Tkh_Myr,Xiron,Xice,eff_option)\n",
    "\n",
    "Mout, flag = ms.min_mass_gaseous(system.planets[0],system.planets[1],Tkh_Myr,Xiron,Xice,system.star.age,eff_option)\n",
    "Mmedian = np.copy(Mout)\n",
    "\n",
    "print(Mmedian,'Mearth')"
   ]
  },
  {
   "cell_type": "markdown",
   "metadata": {},
   "source": [
    "However, given the stellar and planetary parameters contain errors these must be included, therefore we assume the errors are gaussian and randonly sample them. Here we use 1000 samples, but a value should be chosen such that the upper-limit is converged.  "
   ]
  },
  {
   "cell_type": "code",
   "execution_count": 49,
   "metadata": {},
   "outputs": [],
   "source": [
    "Mout_error= np.zeros(1000)\n",
    "flag_out = np.zeros(1000,dtype=np.int8)\n",
    "\n",
    "for i in range(np.size(Mout_error)):\n",
    "    \n",
    "    K36b_R_use = normal(K36b_R,K36b_Rer,1)\n",
    "    K36b_P_use = normal(K36b_P,K36b_Per,1)\n",
    "    \n",
    "    K36c_R_use = normal(K36c_R,K36c_Rer,1)\n",
    "    K36c_P_use = normal(K36c_P,K36c_Per,1)\n",
    "    \n",
    "    system = em.psystem('Kepler36_%d' %i)\n",
    "    system.add_planet('36b',K36b_R_use,K36b_Rer,K36b_P_use,K36b_Per)\n",
    "    system.add_planet('36c',K36c_R_use,K36c_Rer,K36c_P_use,K36c_Per)\n",
    "    system.star.mass=normal(K36s_M,K36s_Mer,1)\n",
    "    system.star.radius=normal(K36s_R,K36s_Rer,1)\n",
    "    system.star.Teff=normal(K36s_Teff,K36s_Teffer,1)\n",
    "    system.star.age = normal(K36s_age,K36s_age_er,1)\n",
    "    system.update_planet_info()\n",
    "    system.above_or_below_valley()\n",
    "    system.mass_rocky(Xiron,Xice)\n",
    "    \n",
    "    ms.find_hardest_rocky(system,Tkh_Myr,Xiron,Xice,eff_option)\n",
    "\n",
    "    Mout, flag = ms.min_mass_gaseous(system.planets[0],system.planets[1],Tkh_Myr,Xiron,Xice,system.star.age,eff_option)\n",
    "    \n",
    "    Mout_error[i] = Mout\n",
    "    flag_out[i]=flag"
   ]
  },
  {
   "cell_type": "markdown",
   "metadata": {},
   "source": [
    "Now plot the resulting distrubtion and calculate the 95% upper-limit, the 95% upperlimit is plotted as a dashed line, the actual measured mass is plotted as the dotted line. This indicates (as known from previous work - Lopez & Fortney 2013, Owen & Morton 2016) that Kepler-36 is consistent with the photoevaporation model. The value to quote, as we are concerned with the minimum mass to be consistent is something like the 95% upper-limit, not the mean or meadian value. "
   ]
  },
  {
   "cell_type": "code",
   "execution_count": 50,
   "metadata": {},
   "outputs": [
    {
     "name": "stdout",
     "output_type": "stream",
     "text": [
      "The 95% upper limit to be consistent with photoevaporation is\n",
      "6.9146660395252955 Mearth\n"
     ]
    },
    {
     "data": {
      "image/png": "[encoded data removed]",
      "text/plain": [
       "<Figure size 432x288 with 1 Axes>"
      ]
     },
     "metadata": {
      "needs_background": "light"
     },
     "output_type": "display_data"
    }
   ],
   "source": [
    "plt.hist(Mout_error,bins=30,density=True,histtype='step',lw=2)\n",
    "plt.plot([(np.percentile(Mout_error,5.)),(np.percentile(Mout_error,5.))],[0.,1.],'--',color='k')\n",
    "plt.plot([8.08,8.08],[0.,1.],':',color='b')\n",
    "plt.ylim((0.,1.))\n",
    "plt.ylabel('Probability Density',fontsize=18)\n",
    "plt.xlabel(r'Minimum Core Mass [M$_\\oplus$]',fontsize=18)\n",
    "print('The 95% upper limit to be consistent with photoevaporation is')\n",
    "print((np.percentile(Mout_error,5.)),'Mearth')"
   ]
  },
  {
   "cell_type": "markdown",
   "metadata": {},
   "source": [
    "Now we will run for the two other efficiency options to show the effect on the result"
   ]
  },
  {
   "cell_type": "code",
   "execution_count": 51,
   "metadata": {},
   "outputs": [],
   "source": [
    "eff_option = 1\n",
    "\n",
    "Mout_error_1= np.zeros(1000)\n",
    "flag_out_1= np.zeros(1000,dtype=np.int8)\n",
    "\n",
    "for i in range(np.size(Mout_error)):\n",
    "    \n",
    "    K36b_R_use = normal(K36b_R,K36b_Rer,1)\n",
    "    K36b_P_use = normal(K36b_P,K36b_Per,1)\n",
    "    \n",
    "    K36c_R_use = normal(K36c_R,K36c_Rer,1)\n",
    "    K36c_P_use = normal(K36c_P,K36c_Per,1)\n",
    "    \n",
    "    system = em.psystem('Kepler36_%d' %i)\n",
    "    system.add_planet('36b',K36b_R_use,K36b_Rer,K36b_P_use,K36b_Per)\n",
    "    system.add_planet('36c',K36c_R_use,K36c_Rer,K36c_P_use,K36c_Per)\n",
    "    system.star.mass=normal(K36s_M,K36s_Mer,1)\n",
    "    system.star.radius=normal(K36s_R,K36s_Rer,1)\n",
    "    system.star.Teff=normal(K36s_Teff,K36s_Teffer,1)\n",
    "    system.star.age = normal(K36s_age,K36s_age_er,1)\n",
    "    system.update_planet_info()\n",
    "    system.above_or_below_valley()\n",
    "    system.mass_rocky(Xiron,Xice)\n",
    "    \n",
    "    ms.find_hardest_rocky(system,Tkh_Myr,Xiron,Xice,eff_option)\n",
    "\n",
    "    Mout, flag = ms.min_mass_gaseous(system.planets[0],system.planets[1],Tkh_Myr,Xiron,Xice,system.star.age,eff_option)\n",
    "    \n",
    "    Mout_error_1[i] = Mout\n",
    "    flag_out_1[i]=flag"
   ]
  },
  {
   "cell_type": "code",
   "execution_count": 53,
   "metadata": {},
   "outputs": [],
   "source": [
    "eff_option = 2\n",
    "\n",
    "Mout_error_2= np.zeros(1000)\n",
    "flag_out_2= np.zeros(1000,dtype=np.int8)\n",
    "\n",
    "for i in range(np.size(Mout_error)):\n",
    "    \n",
    "    K36b_R_use = normal(K36b_R,K36b_Rer,1)\n",
    "    K36b_P_use = normal(K36b_P,K36b_Per,1)\n",
    "    \n",
    "    K36c_R_use = normal(K36c_R,K36c_Rer,1)\n",
    "    K36c_P_use = normal(K36c_P,K36c_Per,1)\n",
    "    \n",
    "    system = em.psystem('Kepler36_%d' %i)\n",
    "    system.add_planet('36b',K36b_R_use,K36b_Rer,K36b_P_use,K36b_Per)\n",
    "    system.add_planet('36c',K36c_R_use,K36c_Rer,K36c_P_use,K36c_Per)\n",
    "    system.star.mass=normal(K36s_M,K36s_Mer,1)\n",
    "    system.star.radius=normal(K36s_R,K36s_Rer,1)\n",
    "    system.star.Teff=normal(K36s_Teff,K36s_Teffer,1)\n",
    "    system.star.age = normal(K36s_age,K36s_age_er,1)\n",
    "    system.update_planet_info()\n",
    "    system.above_or_below_valley()\n",
    "    system.mass_rocky(Xiron,Xice)\n",
    "    \n",
    "    ms.find_hardest_rocky(system,Tkh_Myr,Xiron,Xice,eff_option)\n",
    "\n",
    "    Mout, flag = ms.min_mass_gaseous(system.planets[0],system.planets[1],Tkh_Myr,Xiron,Xice,system.star.age,eff_option)\n",
    "    \n",
    "    Mout_error_2[i] = Mout\n",
    "    flag_out_2[i]=flag"
   ]
  },
  {
   "cell_type": "code",
   "execution_count": 55,
   "metadata": {},
   "outputs": [
    {
     "data": {
      "text/plain": [
       "<matplotlib.legend.Legend at 0x7fc74a1e5160>"
      ]
     },
     "execution_count": 55,
     "metadata": {},
     "output_type": "execute_result"
    },
    {
     "data": {
      "image/png": "[encoded data removed]",
      "text/plain": [
       "<Figure size 432x288 with 1 Axes>"
      ]
     },
     "metadata": {
      "needs_background": "light"
     },
     "output_type": "display_data"
    }
   ],
   "source": [
    "## Now plot\n",
    "plt.hist(Mout_error,bins=30,density=True,histtype='step',lw=2,label='Owen & Jackson (2012) efficiency')\n",
    "plt.hist(Mout_error_1,bins=30,density=True,histtype='step',lw=2,label='Constant Efficiency')\n",
    "plt.hist(Mout_error_2,bins=30,density=True,histtype='step',lw=2,label='Escape velocity scaling')\n",
    "plt.ylim((0.,1.))\n",
    "plt.ylabel('Probability Density',fontsize=18)\n",
    "plt.xlabel(r'Minimum Core Mass [M$_\\oplus$]',fontsize=18)\n",
    "plt.legend(loc=0)"
   ]
  },
  {
   "cell_type": "code",
   "execution_count": null,
   "metadata": {},
   "outputs": [],
   "source": []
  }
 ],
 "metadata": {
  "kernelspec": {
   "display_name": "Python 3",
   "language": "python",
   "name": "python3"
  },
  "language_info": {
   "codemirror_mode": {
    "name": "ipython",
    "version": 3
   },
   "file_extension": ".py",
   "mimetype": "text/x-python",
   "name": "python",
   "nbconvert_exporter": "python",
   "pygments_lexer": "ipython3",
   "version": "3.8.5"
  }
 },
 "nbformat": 4,
 "nbformat_minor": 2
}
